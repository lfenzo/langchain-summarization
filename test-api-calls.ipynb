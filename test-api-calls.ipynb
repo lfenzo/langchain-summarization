{
 "cells": [
  {
   "cell_type": "code",
   "execution_count": 14,
   "id": "0a91a9a4-67ce-4278-a363-9d8f8f7fcd64",
   "metadata": {
    "execution": {
     "iopub.execute_input": "2024-10-01T19:10:09.555008Z",
     "iopub.status.busy": "2024-10-01T19:10:09.554705Z",
     "iopub.status.idle": "2024-10-01T19:10:09.557794Z",
     "shell.execute_reply": "2024-10-01T19:10:09.557519Z",
     "shell.execute_reply.started": "2024-10-01T19:10:09.554993Z"
    }
   },
   "outputs": [],
   "source": [
    "import os\n",
    "import requests\n",
    "import json\n",
    "\n",
    "\n",
    "def stream_summarize_document(path: str | os.PathLike, endpoint: str):\n",
    "    with open(path, 'rb') as file:\n",
    "        response = requests.post(\n",
    "            f\"http://0.0.0.0:8000/{endpoint}\",\n",
    "            files={\"file\": (path, file, \"application/octet-stream\")},\n",
    "            stream=True\n",
    "        )\n",
    "        if response.status_code == 200:\n",
    "            \n",
    "            print(\"Status Code:\", response.status_code, \"\\n\")\n",
    "            \n",
    "            for chunk in response.iter_content(chunk_size=None):\n",
    "                    decoded_chunk = chunk.decode('utf-8')\n",
    "                    chunk_data = json.loads(decoded_chunk)\n",
    "                    if chunk_data:\n",
    "                        print(chunk_data.get(\"content\", \"\"), end='', flush=True)\n",
    "    \n",
    "            if chunk_data and chunk_data.get(\"summary_id\"):\n",
    "                document_id = chunk_data[\"summary_id\"]\n",
    "                print(f\"\\nDocument ID: {document_id}\")\n",
    "        else:\n",
    "            print(\"Error:\", response.status_code)"
   ]
  },
  {
   "cell_type": "markdown",
   "id": "43897439-92ef-4ea4-b88a-44b35b828cfb",
   "metadata": {
    "execution": {
     "iopub.execute_input": "2024-08-22T18:10:52.740832Z",
     "iopub.status.busy": "2024-08-22T18:10:52.740658Z",
     "iopub.status.idle": "2024-08-22T18:10:52.742985Z",
     "shell.execute_reply": "2024-08-22T18:10:52.742744Z",
     "shell.execute_reply.started": "2024-08-22T18:10:52.740818Z"
    }
   },
   "source": [
    "## Text Document"
   ]
  },
  {
   "cell_type": "code",
   "execution_count": 24,
   "id": "960a8fc0-2d86-46d0-8532-4209906087dc",
   "metadata": {
    "execution": {
     "iopub.execute_input": "2024-10-01T20:29:45.558086Z",
     "iopub.status.busy": "2024-10-01T20:29:45.557910Z",
     "iopub.status.idle": "2024-10-01T20:48:13.527847Z",
     "shell.execute_reply": "2024-10-01T20:48:13.527512Z",
     "shell.execute_reply.started": "2024-10-01T20:29:45.558074Z"
    }
   },
   "outputs": [
    {
     "name": "stdout",
     "output_type": "stream",
     "text": [
      "Status Code: 200 \n",
      "\n"
     ]
    }
   ],
   "source": [
    "stream_summarize_document(path=\"input/rio.pdf\", endpoint='summarize')"
   ]
  },
  {
   "cell_type": "markdown",
   "id": "252fe717-a93e-4145-b3a5-7f20281d4e59",
   "metadata": {},
   "source": [
    "## Test Feedback Submition"
   ]
  },
  {
   "cell_type": "code",
   "execution_count": 17,
   "id": "caf98347-86f5-4178-ae97-d6a0e11faa13",
   "metadata": {
    "execution": {
     "iopub.execute_input": "2024-09-27T14:19:29.886031Z",
     "iopub.status.busy": "2024-09-27T14:19:29.885855Z",
     "iopub.status.idle": "2024-09-27T14:19:29.897356Z",
     "shell.execute_reply": "2024-09-27T14:19:29.897089Z",
     "shell.execute_reply.started": "2024-09-27T14:19:29.886018Z"
    },
    "scrolled": true
   },
   "outputs": [
    {
     "name": "stdout",
     "output_type": "stream",
     "text": [
      "b'{\"user\":\"my_user\",\"document_id\":\"run-d81016f6-c411-4746-a530-7652dba3c7de\"}'\n"
     ]
    }
   ],
   "source": [
    "response = requests.post(\n",
    "    \"http://0.0.0.0:8000/summarize/feedback\",\n",
    "    json={\n",
    "        'user': 'my_user',\n",
    "        'document_id': 'run-d81016f6-c411-4746-a530-7652dba3c7de',\n",
    "        'feedback': '+3',\n",
    "        'written_feedback': \"achei topzera\",\n",
    "    }\n",
    ")\n",
    "\n",
    "print(response.content)"
   ]
  }
 ],
 "metadata": {
  "kernelspec": {
   "display_name": "Python 3 (ipykernel)",
   "language": "python",
   "name": "python3"
  },
  "language_info": {
   "codemirror_mode": {
    "name": "ipython",
    "version": 3
   },
   "file_extension": ".py",
   "mimetype": "text/x-python",
   "name": "python",
   "nbconvert_exporter": "python",
   "pygments_lexer": "ipython3",
   "version": "3.12.6"
  }
 },
 "nbformat": 4,
 "nbformat_minor": 5
}
